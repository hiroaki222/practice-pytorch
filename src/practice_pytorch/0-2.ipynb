{
 "cells": [
  {
   "cell_type": "code",
   "execution_count": 1,
   "metadata": {},
   "outputs": [],
   "source": [
    "import matplotlib as mpl\n",
    "import numpy as np\n",
    "import torch"
   ]
  },
  {
   "cell_type": "code",
   "execution_count": 12,
   "metadata": {},
   "outputs": [
    {
     "data": {
      "text/plain": [
       "True"
      ]
     },
     "execution_count": 12,
     "metadata": {},
     "output_type": "execute_result"
    }
   ],
   "source": [
    "torch.backends.mps.is_available()"
   ]
  },
  {
   "cell_type": "code",
   "execution_count": 5,
   "metadata": {},
   "outputs": [
    {
     "name": "stdout",
     "output_type": "stream",
     "text": [
      "x_data:\n",
      "tensor([[1, 2],\n",
      "        [3, 4]])\n"
     ]
    }
   ],
   "source": [
    "data = [[1, 2],[3, 4]]\n",
    "x_data = torch.tensor(data)\n",
    "print(f'x_data:\\n{x_data}')"
   ]
  },
  {
   "cell_type": "code",
   "execution_count": 6,
   "metadata": {},
   "outputs": [
    {
     "name": "stdout",
     "output_type": "stream",
     "text": [
      "rand_tensor:\n",
      "tensor([[0.3394, 0.6642, 0.6843, 0.6609, 0.1114],\n",
      "        [0.2988, 0.0558, 0.8576, 0.8454, 0.8640],\n",
      "        [0.5995, 0.1245, 0.4464, 0.9988, 0.7878]])\n"
     ]
    }
   ],
   "source": [
    "shape = (3,5,)\n",
    "rand_tensor = torch.rand(shape)\n",
    "print(f'rand_tensor:\\n{rand_tensor}')"
   ]
  },
  {
   "cell_type": "code",
   "execution_count": 11,
   "metadata": {},
   "outputs": [
    {
     "name": "stdout",
     "output_type": "stream",
     "text": [
      "tensor([[0.1560, 0.0469, 0.1083, 0.5984],\n",
      "        [0.7459, 0.2227, 0.0726, 0.9140],\n",
      "        [0.6869, 0.7567, 0.3341, 0.1257]], device='mps:0')\n",
      "Shape of tensor: torch.Size([3, 4])\n",
      "Datatype of tensor: torch.float32\n",
      "Device tensor is stored on: mps:0\n"
     ]
    }
   ],
   "source": [
    "tensor = torch.rand(3,4).to(\"mps\")\n",
    "print(tensor)\n",
    "print(f\"Shape of tensor: {tensor.shape}\")\n",
    "print(f\"Datatype of tensor: {tensor.dtype}\")\n",
    "print(f\"Device tensor is stored on: {tensor.device}\")"
   ]
  },
  {
   "cell_type": "code",
   "execution_count": 31,
   "metadata": {},
   "outputs": [
    {
     "name": "stdout",
     "output_type": "stream",
     "text": [
      "tensor([[[0.6997, 0.0509, 0.8610],\n",
      "         [0.0058, 0.5736, 0.9979]],\n",
      "\n",
      "        [[0.2945, 0.6183, 0.1722],\n",
      "         [0.3662, 0.4476, 0.2519]]], device='mps:0')\n",
      "First row:  tensor([[0.6997, 0.0509, 0.8610],\n",
      "        [0.0058, 0.5736, 0.9979]], device='mps:0')\n",
      "First column:  tensor([[0.6997, 0.0509, 0.8610],\n",
      "        [0.2945, 0.6183, 0.1722]], device='mps:0')\n",
      "Last column: tensor([[0.8610, 0.9979],\n",
      "        [0.1722, 0.2519]], device='mps:0')\n"
     ]
    }
   ],
   "source": [
    "tensor = torch.rand(2, 2, 3).to('mps')\n",
    "print(tensor)\n",
    "print('First row: ',tensor[0])\n",
    "print('First column: ', tensor[:, 0])\n",
    "print('Last column:', tensor[..., -1])"
   ]
  },
  {
   "cell_type": "code",
   "execution_count": 32,
   "metadata": {},
   "outputs": [
    {
     "name": "stdout",
     "output_type": "stream",
     "text": [
      "tensor([[[0.6997, 0.0509, 0.8610],\n",
      "         [0.0058, 0.5736, 0.9979],\n",
      "         [0.6997, 0.0509, 0.8610],\n",
      "         [0.0058, 0.5736, 0.9979],\n",
      "         [0.6997, 0.0509, 0.8610],\n",
      "         [0.0058, 0.5736, 0.9979]],\n",
      "\n",
      "        [[0.2945, 0.6183, 0.1722],\n",
      "         [0.3662, 0.4476, 0.2519],\n",
      "         [0.2945, 0.6183, 0.1722],\n",
      "         [0.3662, 0.4476, 0.2519],\n",
      "         [0.2945, 0.6183, 0.1722],\n",
      "         [0.3662, 0.4476, 0.2519]]], device='mps:0')\n"
     ]
    }
   ],
   "source": [
    "t1 = torch.cat([tensor, tensor, tensor], dim=1)\n",
    "print(t1)"
   ]
  },
  {
   "cell_type": "code",
   "execution_count": 33,
   "metadata": {},
   "outputs": [
    {
     "name": "stdout",
     "output_type": "stream",
     "text": [
      "tensor([[[0.6997, 0.0509, 0.8610, 0.6997, 0.0509, 0.8610, 0.6997, 0.0509,\n",
      "          0.8610],\n",
      "         [0.0058, 0.5736, 0.9979, 0.0058, 0.5736, 0.9979, 0.0058, 0.5736,\n",
      "          0.9979]],\n",
      "\n",
      "        [[0.2945, 0.6183, 0.1722, 0.2945, 0.6183, 0.1722, 0.2945, 0.6183,\n",
      "          0.1722],\n",
      "         [0.3662, 0.4476, 0.2519, 0.3662, 0.4476, 0.2519, 0.3662, 0.4476,\n",
      "          0.2519]]], device='mps:0')\n"
     ]
    }
   ],
   "source": [
    "t2 = torch.cat([tensor, tensor, tensor], dim=2)\n",
    "print(t2)"
   ]
  },
  {
   "cell_type": "code",
   "execution_count": 42,
   "metadata": {},
   "outputs": [
    {
     "name": "stdout",
     "output_type": "stream",
     "text": [
      "tensor([[0.2070, 0.8740],\n",
      "        [0.1247, 0.7902]], device='mps:0')\n",
      "tensor([[0.2070, 0.1247],\n",
      "        [0.8740, 0.7902]], device='mps:0')\n"
     ]
    }
   ],
   "source": [
    "tensor = torch.rand(2, 2).to('mps')\n",
    "print(tensor)\n",
    "print(tensor.T)"
   ]
  },
  {
   "cell_type": "code",
   "execution_count": 43,
   "metadata": {},
   "outputs": [
    {
     "name": "stdout",
     "output_type": "stream",
     "text": [
      "tensor([[0.8067, 0.7164],\n",
      "        [0.7164, 0.6400]], device='mps:0')\n"
     ]
    }
   ],
   "source": [
    "y1 = tensor @ tensor.T\n",
    "print(y1)"
   ]
  },
  {
   "cell_type": "code",
   "execution_count": 44,
   "metadata": {},
   "outputs": [
    {
     "name": "stdout",
     "output_type": "stream",
     "text": [
      "tensor([[0.0429, 0.7638],\n",
      "        [0.0156, 0.6245]], device='mps:0')\n"
     ]
    }
   ],
   "source": [
    "z1 = tensor * tensor\n",
    "print(z1)"
   ]
  }
 ],
 "metadata": {
  "kernelspec": {
   "display_name": ".venv",
   "language": "python",
   "name": "python3"
  },
  "language_info": {
   "codemirror_mode": {
    "name": "ipython",
    "version": 3
   },
   "file_extension": ".py",
   "mimetype": "text/x-python",
   "name": "python",
   "nbconvert_exporter": "python",
   "pygments_lexer": "ipython3",
   "version": "3.12.1"
  }
 },
 "nbformat": 4,
 "nbformat_minor": 2
}
